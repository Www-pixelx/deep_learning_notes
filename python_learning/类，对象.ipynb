{
 "cells": [
  {
   "cell_type": "code",
   "execution_count": 47,
   "id": "69fd995b",
   "metadata": {},
   "outputs": [],
   "source": [
    "# 设计一个类\n",
    "class Student:\n",
    "    # 属性\n",
    "    name = None\n",
    "    gender = None\n",
    "    age = None\n",
    "    # 方法\n",
    "    def say_hi(self, msg):\n",
    "        print(f\"hi! I'm {self.name},{msg}\")"
   ]
  },
  {
   "cell_type": "code",
   "execution_count": 48,
   "id": "5d3cd263",
   "metadata": {},
   "outputs": [],
   "source": [
    "# 创建一个对象\n",
    "stu_1 = Student()"
   ]
  },
  {
   "cell_type": "code",
   "execution_count": 49,
   "id": "754f7165",
   "metadata": {},
   "outputs": [
    {
     "data": {
      "text/plain": [
       "'18'"
      ]
     },
     "execution_count": 49,
     "metadata": {},
     "output_type": "execute_result"
    }
   ],
   "source": [
    "# 对对象属性赋值\n",
    "stu_1.name = \"John\"\n",
    "stu_1.gender = 'male'\n",
    "stu_1.age = '18'\n",
    "stu_1.age "
   ]
  },
  {
   "cell_type": "code",
   "execution_count": 50,
   "id": "de11b678",
   "metadata": {},
   "outputs": [
    {
     "name": "stdout",
     "output_type": "stream",
     "text": [
      "hi! I'm John,nmsl\n"
     ]
    }
   ],
   "source": [
    "stu_1.say_hi('nmsl')"
   ]
  },
  {
   "cell_type": "code",
   "execution_count": 51,
   "id": "10708ec9",
   "metadata": {},
   "outputs": [
    {
     "data": {
      "text/plain": [
       "'mike'"
      ]
     },
     "execution_count": 51,
     "metadata": {},
     "output_type": "execute_result"
    }
   ],
   "source": [
    "# 魔术方法 Magic Methods\n",
    "\n",
    "# 构造方法 __init__\n",
    "# 构建对象时自动执行，传参会自动传给\n",
    "class Student:\n",
    "    # name = None\n",
    "    # gender = None\n",
    "    # age = None\n",
    "    def __init__(self,name,gender,age):\n",
    "        self.name = name\n",
    "        self.gender = gender\n",
    "        self.age = age\n",
    "\n",
    "stu_2 = Student('mike','male','18')\n",
    "stu_2.name"
   ]
  },
  {
   "cell_type": "code",
   "execution_count": 52,
   "id": "59b30b5a",
   "metadata": {},
   "outputs": [
    {
     "name": "stdout",
     "output_type": "stream",
     "text": [
      "<__main__.Student object at 0x00000211B4C34990>\n"
     ]
    }
   ],
   "source": [
    "# 字符串方法 __str__\n",
    "print(stu_2)"
   ]
  },
  {
   "cell_type": "code",
   "execution_count": 53,
   "id": "1586cbfb",
   "metadata": {},
   "outputs": [
    {
     "name": "stdout",
     "output_type": "stream",
     "text": [
      "name: mike ; gender: male ; age: 18\n"
     ]
    }
   ],
   "source": [
    "class Student:\n",
    "    def __init__(self,name,gender,age):\n",
    "        self.name = name\n",
    "        self.gender = gender\n",
    "        self.age = age\n",
    "    \n",
    "    def __str__(self):\n",
    "        return f\"name: {self.name} ; gender: {self.gender} ; age: {self.age}\"\n",
    "    \n",
    "stu_2 = Student('mike','male','18')\n",
    "print(stu_2)"
   ]
  },
  {
   "cell_type": "markdown",
   "id": "f9c2dacc",
   "metadata": {},
   "source": [
    "面向对象编程的三大特性\\\n",
    "——封装\\\n",
    "——继承\\\n",
    "——多态"
   ]
  },
  {
   "cell_type": "markdown",
   "id": "00840ae5",
   "metadata": {},
   "source": [
    "封装\n",
    "将属性和方法封装在类里\n",
    "\n",
    "私有成员变量/方法 在前面加两个下划线__ , 不可在外部使用，只能在类对象内部其他成员使用"
   ]
  },
  {
   "cell_type": "code",
   "execution_count": null,
   "id": "875db3a9",
   "metadata": {},
   "outputs": [
    {
     "name": "stdout",
     "output_type": "stream",
     "text": [
      "amy\n",
      "fxxk u!!!\n"
     ]
    }
   ],
   "source": [
    "# 继承\n",
    "# class 子类名 (父类1,父类2,...):\n",
    "#     类内容体\n",
    "\n",
    "class Student_1(Student):\n",
    "    def new_func(self):\n",
    "        print(\"fxxk u!!!\")\n",
    "\n",
    "stu_3 = Student_1(\"amy\",'female','19')\n",
    "print(stu_3.name)\n",
    "stu_3.new_func()\n",
    "\n",
    "# 注意：\n",
    "# 1.不能继承私有成员\n",
    "# 2.父类同名成员，优先 先继承的"
   ]
  },
  {
   "cell_type": "code",
   "execution_count": null,
   "id": "c239c3d3",
   "metadata": {},
   "outputs": [],
   "source": [
    "# 多态\n"
   ]
  }
 ],
 "metadata": {
  "kernelspec": {
   "display_name": "pytorch_1",
   "language": "python",
   "name": "python3"
  },
  "language_info": {
   "codemirror_mode": {
    "name": "ipython",
    "version": 3
   },
   "file_extension": ".py",
   "mimetype": "text/x-python",
   "name": "python",
   "nbconvert_exporter": "python",
   "pygments_lexer": "ipython3",
   "version": "3.11.13"
  }
 },
 "nbformat": 4,
 "nbformat_minor": 5
}
