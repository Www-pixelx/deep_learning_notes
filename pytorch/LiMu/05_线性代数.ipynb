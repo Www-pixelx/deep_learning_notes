{
 "cells": [
  {
   "cell_type": "markdown",
   "id": "bb5410c7-a75b-48e3-aabc-48af62b39b47",
   "metadata": {},
   "source": [
    "\n",
    "标量由只有一个元素的张量表示\n"
   ]
  },
  {
   "cell_type": "code",
   "execution_count": 1,
   "id": "d681d1a2-3953-422a-91e0-73def7ef5ab4",
   "metadata": {},
   "outputs": [
    {
     "data": {
      "text/plain": [
       "(tensor([5.]), tensor([6.]), tensor([1.5000]), tensor([9.]))"
      ]
     },
     "execution_count": 1,
     "metadata": {},
     "output_type": "execute_result"
    }
   ],
   "source": [
    "import torch\n",
    "\n",
    "x = torch.tensor([3.0])\n",
    "y = torch.tensor([2.0])\n",
    "\n",
    "x+y,x*y,x/y,x**y"
   ]
  },
  {
   "cell_type": "markdown",
   "id": "2eec208f-12f3-4ae2-9198-ee802bf60a84",
   "metadata": {},
   "source": [
    "\n",
    "向量可视为标量值组成的列表\n"
   ]
  },
  {
   "cell_type": "code",
   "execution_count": 2,
   "id": "9677f819-2043-4e10-8dba-96335c6628d8",
   "metadata": {},
   "outputs": [
    {
     "data": {
      "text/plain": [
       "(tensor([1, 2, 3]), tensor(3))"
      ]
     },
     "execution_count": 2,
     "metadata": {},
     "output_type": "execute_result"
    }
   ],
   "source": [
    "x = torch.tensor([1,2,3])\n",
    "x,x[2]"
   ]
  },
  {
   "cell_type": "code",
   "execution_count": 3,
   "id": "944ac28e-15c8-404e-84ac-0439c6374a89",
   "metadata": {},
   "outputs": [
    {
     "data": {
      "text/plain": [
       "(3, torch.Size([3]))"
      ]
     },
     "execution_count": 3,
     "metadata": {},
     "output_type": "execute_result"
    }
   ],
   "source": [
    "# 访问张量长度,形状\n",
    "len(x),x.shape"
   ]
  },
  {
   "cell_type": "markdown",
   "id": "0590cbcf-9bf6-4ee5-a3df-17171dd4f7fc",
   "metadata": {},
   "source": [
    "\n",
    "矩阵可视为向量组成的列表\n"
   ]
  },
  {
   "cell_type": "code",
   "execution_count": 4,
   "id": "b5adb46c-bc9c-4ab7-a78c-b36dadf0e837",
   "metadata": {},
   "outputs": [
    {
     "data": {
      "text/plain": [
       "tensor([[ 0,  1,  2,  3],\n",
       "        [ 4,  5,  6,  7],\n",
       "        [ 8,  9, 10, 11],\n",
       "        [12, 13, 14, 15],\n",
       "        [16, 17, 18, 19]])"
      ]
     },
     "execution_count": 4,
     "metadata": {},
     "output_type": "execute_result"
    }
   ],
   "source": [
    "A = torch.arange(20).reshape((5,4))\n",
    "A"
   ]
  },
  {
   "cell_type": "code",
   "execution_count": 5,
   "id": "e98a32e1-ea8d-41bf-8434-e9bb19aaa4a0",
   "metadata": {},
   "outputs": [
    {
     "data": {
      "text/plain": [
       "tensor([[ 0,  4,  8, 12, 16],\n",
       "        [ 1,  5,  9, 13, 17],\n",
       "        [ 2,  6, 10, 14, 18],\n",
       "        [ 3,  7, 11, 15, 19]])"
      ]
     },
     "execution_count": 5,
     "metadata": {},
     "output_type": "execute_result"
    }
   ],
   "source": [
    "# 矩阵的转置\n",
    "A.T"
   ]
  },
  {
   "cell_type": "code",
   "execution_count": 6,
   "id": "b1c92e5b-b7c7-4c91-acf8-5f8044027f5b",
   "metadata": {},
   "outputs": [
    {
     "data": {
      "text/plain": [
       "tensor([[[ 0,  1,  2,  3],\n",
       "         [ 4,  5,  6,  7],\n",
       "         [ 8,  9, 10, 11]],\n",
       "\n",
       "        [[12, 13, 14, 15],\n",
       "         [16, 17, 18, 19],\n",
       "         [20, 21, 22, 23]]])"
      ]
     },
     "execution_count": 6,
     "metadata": {},
     "output_type": "execute_result"
    }
   ],
   "source": [
    "# 更高维的结构\n",
    "X = torch.arange(24).reshape(2,3,4)\n",
    "X"
   ]
  },
  {
   "cell_type": "markdown",
   "id": "bde22e72-4d26-4799-817c-6bccf653f71b",
   "metadata": {},
   "source": [
    "矩阵运算"
   ]
  },
  {
   "cell_type": "code",
   "execution_count": 7,
   "id": "33a874d4-6991-4f2e-8d3e-9d5c42526093",
   "metadata": {},
   "outputs": [
    {
     "data": {
      "text/plain": [
       "(tensor([[ 0,  1,  2,  3,  4],\n",
       "         [ 5,  6,  7,  8,  9],\n",
       "         [10, 11, 12, 13, 14],\n",
       "         [15, 16, 17, 18, 19]]),\n",
       " tensor([[ 0,  2,  4,  6,  8],\n",
       "         [10, 12, 14, 16, 18],\n",
       "         [20, 22, 24, 26, 28],\n",
       "         [30, 32, 34, 36, 38]]))"
      ]
     },
     "execution_count": 7,
     "metadata": {},
     "output_type": "execute_result"
    }
   ],
   "source": [
    "# 矩阵运算\n",
    "A = torch.arange(20).reshape(4,5)\n",
    "B = A.clone() # 重新分配内存给 B\n",
    "A,A+B"
   ]
  },
  {
   "cell_type": "code",
   "execution_count": 8,
   "id": "f2f4e0cc-03bc-4e42-9141-553d6350a24b",
   "metadata": {},
   "outputs": [
    {
     "data": {
      "text/plain": [
       "tensor([[  0,   1,   4,   9,  16],\n",
       "        [ 25,  36,  49,  64,  81],\n",
       "        [100, 121, 144, 169, 196],\n",
       "        [225, 256, 289, 324, 361]])"
      ]
     },
     "execution_count": 8,
     "metadata": {},
     "output_type": "execute_result"
    }
   ],
   "source": [
    "# 哈达玛积\n",
    "# 并非矩阵乘法，而是将对应位置的元素相乘后填回位置\n",
    "A*B"
   ]
  },
  {
   "cell_type": "code",
   "execution_count": 9,
   "id": "515ca33c-ffcc-48ad-a7b1-c15450c60121",
   "metadata": {},
   "outputs": [
    {
     "data": {
      "text/plain": [
       "(tensor([[[ 0,  1,  2,  3],\n",
       "          [ 4,  5,  6,  7],\n",
       "          [ 8,  9, 10, 11],\n",
       "          [12, 13, 14, 15],\n",
       "          [16, 17, 18, 19]],\n",
       " \n",
       "         [[20, 21, 22, 23],\n",
       "          [24, 25, 26, 27],\n",
       "          [28, 29, 30, 31],\n",
       "          [32, 33, 34, 35],\n",
       "          [36, 37, 38, 39]]]),\n",
       " tensor(780))"
      ]
     },
     "execution_count": 9,
     "metadata": {},
     "output_type": "execute_result"
    }
   ],
   "source": [
    "A = torch.arange(40).reshape(2,5,4)\n",
    "A,A.sum()"
   ]
  },
  {
   "cell_type": "markdown",
   "id": "b51bd8cc-4f92-42f0-8d9f-fbcd1c2e70d8",
   "metadata": {},
   "source": [
    "按轴对张量求和"
   ]
  },
  {
   "cell_type": "code",
   "execution_count": 10,
   "id": "15aff9af-4b79-4b22-9610-47cac6abd157",
   "metadata": {},
   "outputs": [
    {
     "data": {
      "text/plain": [
       "(tensor([[20., 22., 24., 26.],\n",
       "         [28., 30., 32., 34.],\n",
       "         [36., 38., 40., 42.],\n",
       "         [44., 46., 48., 50.],\n",
       "         [52., 54., 56., 58.]], dtype=torch.float64),\n",
       " torch.Size([5, 4]))"
      ]
     },
     "execution_count": 10,
     "metadata": {},
     "output_type": "execute_result"
    }
   ],
   "source": [
    "A = torch.arange(40,dtype=float).reshape(2,5,4)\n",
    "A_sum_axis0 = A.sum(axis = 0) # 从第0维度求和，去掉2，生成（5，4）的矩阵（将正方形从0轴拍扁）\n",
    "A_sum_axis0,A_sum_axis0.shape"
   ]
  },
  {
   "cell_type": "code",
   "execution_count": 11,
   "id": "4a93a526-19ca-4c99-ab45-6e74043908d0",
   "metadata": {},
   "outputs": [
    {
     "data": {
      "text/plain": [
       "tensor([180., 190., 200., 210.], dtype=torch.float64)"
      ]
     },
     "execution_count": 11,
     "metadata": {},
     "output_type": "execute_result"
    }
   ],
   "source": [
    "# 沿两个维度求和（拍扁2次）\n",
    "A_sum_axis01 = A.sum(axis=[0,1])\n",
    "A_sum_axis01"
   ]
  },
  {
   "cell_type": "code",
   "execution_count": 12,
   "id": "1373c95a-0a29-4b20-9dfb-84ecd8226b78",
   "metadata": {},
   "outputs": [
    {
     "data": {
      "text/plain": [
       "(tensor(19.5000, dtype=torch.float64), tensor(19.5000, dtype=torch.float64))"
      ]
     },
     "execution_count": 12,
     "metadata": {},
     "output_type": "execute_result"
    }
   ],
   "source": [
    "# 平均值\n",
    "A.mean(dtype = float),A.sum()/A.numel()"
   ]
  },
  {
   "cell_type": "code",
   "execution_count": 13,
   "id": "d2c94f59-7806-49c8-84e0-a9d160f9b5c3",
   "metadata": {},
   "outputs": [
    {
     "data": {
      "text/plain": [
       "(tensor([[10., 11., 12., 13.],\n",
       "         [14., 15., 16., 17.],\n",
       "         [18., 19., 20., 21.],\n",
       "         [22., 23., 24., 25.],\n",
       "         [26., 27., 28., 29.]], dtype=torch.float64),\n",
       " tensor([[10., 11., 12., 13.],\n",
       "         [14., 15., 16., 17.],\n",
       "         [18., 19., 20., 21.],\n",
       "         [22., 23., 24., 25.],\n",
       "         [26., 27., 28., 29.]], dtype=torch.float64))"
      ]
     },
     "execution_count": 13,
     "metadata": {},
     "output_type": "execute_result"
    }
   ],
   "source": [
    "A.mean(axis=0), A.sum(axis=0)/A.shape[0]"
   ]
  },
  {
   "cell_type": "code",
   "execution_count": 14,
   "id": "959d4aa0-2619-42a7-98b7-f96bc37c817b",
   "metadata": {},
   "outputs": [
    {
     "data": {
      "text/plain": [
       "tensor([[[ 40.,  45.,  50.,  55.]],\n",
       "\n",
       "        [[140., 145., 150., 155.]]], dtype=torch.float64)"
      ]
     },
     "execution_count": 14,
     "metadata": {},
     "output_type": "execute_result"
    }
   ],
   "source": [
    "# keepdims保持维度不变，方便广播\n",
    "A.sum(axis = 1,keepdims=True)"
   ]
  },
  {
   "cell_type": "code",
   "execution_count": 15,
   "id": "972b3b4f-1f89-4b99-a609-1a3d933f4d0c",
   "metadata": {},
   "outputs": [
    {
     "data": {
      "text/plain": [
       "(tensor([0, 1, 2, 3]), tensor([0, 1, 2, 3]), tensor(14), tensor(14))"
      ]
     },
     "execution_count": 15,
     "metadata": {},
     "output_type": "execute_result"
    }
   ],
   "source": [
    "# 点积 dot,只用于一维向量\n",
    "# 相同位置的元素相乘后求和,即 A*B的sum\n",
    "A = torch.arange(4)\n",
    "B = A.clone()\n",
    "A,B,torch.dot(A,B),torch.sum(A*B)\n",
    "# A.dot(B),B.dot(A)"
   ]
  },
  {
   "cell_type": "markdown",
   "id": "2c95ebbc-f312-4c2c-945b-96e724a5fca0",
   "metadata": {},
   "source": [
    "矩阵乘法"
   ]
  },
  {
   "cell_type": "code",
   "execution_count": 16,
   "id": "a3a575b4-564f-4dda-8c35-0e0d264b60c8",
   "metadata": {},
   "outputs": [
    {
     "data": {
      "text/plain": [
       "(tensor([[ 0,  1,  2,  3],\n",
       "         [ 4,  5,  6,  7],\n",
       "         [ 8,  9, 10, 11]]),\n",
       " tensor([1, 2, 3, 4]),\n",
       " tensor([ 20,  60, 100]),\n",
       " tensor([ 20,  60, 100]))"
      ]
     },
     "execution_count": 16,
     "metadata": {},
     "output_type": "execute_result"
    }
   ],
   "source": [
    "# 矩阵乘法\n",
    "# 矩阵向量相乘\n",
    "M = torch.arange(12).reshape(3,4)\n",
    "V = torch.tensor([1,2,3,4])\n",
    "M,V,torch.mv(M,V),M.mv(V)# torch.mv()的 m指矩阵，v指向量"
   ]
  },
  {
   "cell_type": "code",
   "execution_count": 17,
   "id": "2ef09812-6ab8-4913-baa2-926fedee2668",
   "metadata": {},
   "outputs": [
    {
     "data": {
      "text/plain": [
       "(tensor([[ 0,  1,  2,  3],\n",
       "         [ 4,  5,  6,  7],\n",
       "         [ 8,  9, 10, 11]]),\n",
       " tensor([[0, 1],\n",
       "         [2, 3],\n",
       "         [4, 5],\n",
       "         [6, 7]]),\n",
       " tensor([[ 28,  34],\n",
       "         [ 76,  98],\n",
       "         [124, 162]]))"
      ]
     },
     "execution_count": 17,
     "metadata": {},
     "output_type": "execute_result"
    }
   ],
   "source": [
    "# 矩阵相乘\n",
    "M_1 = torch.arange(12).reshape(3,4)\n",
    "M_2 = torch.arange(8).reshape(4,2)\n",
    "M_1,M_2,torch.mm(M_1,M_2) # M_1.mm(M_2)"
   ]
  },
  {
   "cell_type": "markdown",
   "id": "183c1dc5-d325-4d9b-b057-e76c4a25ed39",
   "metadata": {},
   "source": [
    "范数"
   ]
  },
  {
   "cell_type": "code",
   "execution_count": 18,
   "id": "ef1141fa-b567-45d3-928f-15e34193bd83",
   "metadata": {},
   "outputs": [
    {
     "data": {
      "text/plain": [
       "(tensor([1., 2., 3., 4.]), tensor(5.4772))"
      ]
     },
     "execution_count": 18,
     "metadata": {},
     "output_type": "execute_result"
    }
   ],
   "source": [
    "# L2范数 norm是向量元素平方和的平方根\n",
    "u = torch.tensor([1.0,2,3,4])\n",
    "u,torch.norm(u)"
   ]
  },
  {
   "cell_type": "code",
   "execution_count": 19,
   "id": "b2a4e2f7-c02b-40bb-88ec-ff657ae7759c",
   "metadata": {},
   "outputs": [
    {
     "data": {
      "text/plain": [
       "tensor(10.)"
      ]
     },
     "execution_count": 19,
     "metadata": {},
     "output_type": "execute_result"
    }
   ],
   "source": [
    "# L1范数指向量元素的绝对值之和\n",
    "torch.abs(u).sum()"
   ]
  },
  {
   "cell_type": "code",
   "execution_count": 20,
   "id": "e8921638-52bb-4bf1-9bf4-2a9ad2bf7c96",
   "metadata": {},
   "outputs": [
    {
     "data": {
      "text/plain": [
       "tensor(6.)"
      ]
     },
     "execution_count": 20,
     "metadata": {},
     "output_type": "execute_result"
    }
   ],
   "source": [
    "# 矩阵的范数\n",
    "# F范数 norm是矩阵元素的平方和的平方根\n",
    "torch.norm(torch.ones(4,9))"
   ]
  },
  {
   "cell_type": "code",
   "execution_count": null,
   "id": "e970a0c9-647b-45f4-b5aa-83daee175c6c",
   "metadata": {},
   "outputs": [],
   "source": []
  }
 ],
 "metadata": {
  "kernelspec": {
   "display_name": "Python 3 (ipykernel)",
   "language": "python",
   "name": "python3"
  },
  "language_info": {
   "codemirror_mode": {
    "name": "ipython",
    "version": 3
   },
   "file_extension": ".py",
   "mimetype": "text/x-python",
   "name": "python",
   "nbconvert_exporter": "python",
   "pygments_lexer": "ipython3",
   "version": "3.11.13"
  }
 },
 "nbformat": 4,
 "nbformat_minor": 5
}
