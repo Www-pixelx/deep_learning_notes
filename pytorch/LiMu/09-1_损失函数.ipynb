{
 "cells": [
  {
   "cell_type": "markdown",
   "id": "a8f3f5c5-5ac5-492b-af65-0ca648f8d140",
   "metadata": {},
   "source": [
    " 损失函数\n"
   ]
  },
  {
   "attachments": {},
   "cell_type": "raw",
   "id": "07a25f96-bd01-4a95-bf2a-b9efc46e28de",
   "metadata": {},
   "source": [
    "均方损失 L2 Loss,MSELoss\n",
    "l(y,y') = (y - y')² / 2\n",
    "离原点很远时梯度很大"
   ]
  },
  {
   "cell_type": "raw",
   "id": "be67d874-7d2b-4077-805b-73219c922dce",
   "metadata": {},
   "source": [
    "绝对值损失 L1 Loss\n",
    "l(y,y') = |y - y'|\n",
    "零点不可导"
   ]
  },
  {
   "cell_type": "raw",
   "id": "57d362c6-4c88-4823-9e91-5e7e2e24a053",
   "metadata": {},
   "source": [
    "Huber's Robust Loss\n",
    "            |y - y'| - 1/2 , |y - y'| > 1\n",
    "l(y,y') = {\n",
    "            (y - y')² / 2  , else"
   ]
  },
  {
   "cell_type": "code",
   "execution_count": null,
   "id": "97829465-bac2-4588-8a59-a5844304fe47",
   "metadata": {},
   "outputs": [],
   "source": []
  }
 ],
 "metadata": {
  "kernelspec": {
   "display_name": "Python 3 (ipykernel)",
   "language": "python",
   "name": "python3"
  },
  "language_info": {
   "codemirror_mode": {
    "name": "ipython",
    "version": 3
   },
   "file_extension": ".py",
   "mimetype": "text/x-python",
   "name": "python",
   "nbconvert_exporter": "python",
   "pygments_lexer": "ipython3",
   "version": "3.11.13"
  }
 },
 "nbformat": 4,
 "nbformat_minor": 5
}
