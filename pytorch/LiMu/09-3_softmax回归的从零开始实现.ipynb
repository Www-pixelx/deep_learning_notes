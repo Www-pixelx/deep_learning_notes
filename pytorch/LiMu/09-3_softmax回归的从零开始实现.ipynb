{
 "cells": [
  {
   "cell_type": "code",
   "execution_count": 1,
   "id": "db83451e-6811-463a-9343-476ea150997f",
   "metadata": {},
   "outputs": [],
   "source": [
    "import torch\n",
    "from IPython import display\n",
    "from d2l import torch as d2l\n",
    "\n",
    "batch_size = 256\n",
    "train_iter, test_iter = d2l.load_data_fashion_mnist(batch_size)"
   ]
  },
  {
   "cell_type": "code",
   "execution_count": 2,
   "id": "2b2529d5-9a75-4798-bf93-d974023598fc",
   "metadata": {},
   "outputs": [],
   "source": [
    "num_inputs = 784 # 图片长宽28，展平视为长度784的向量\n",
    "num_outputs = 10 # 数据集有10个类别，所以网络输出维度为10\n",
    "\n",
    "# w,b初始化\n",
    "w = torch.normal(0,0.01,size = (num_outputs,num_inputs),requires_grad = True)\n",
    "# w权重矩阵，num_outputs输出种类数即为行数，num_inputs是列数（输入的向量元素都是特征值）\n",
    "b = torch.zeros(num_outputs,requires_grad=True)\n",
    "# b偏置向量长度即为输出种类数 num_outputs"
   ]
  },
  {
   "cell_type": "code",
   "execution_count": 3,
   "id": "e268f999-8809-441e-ac44-edb66d50a073",
   "metadata": {},
   "outputs": [],
   "source": [
    "def softmax(X):\n",
    "    X_exp = torch.exp(X)\n",
    "    partition = X_exp.sum(1, keepdim=True)\n",
    "    return X_exp / partition  # 这里应用了广播机制"
   ]
  },
  {
   "cell_type": "code",
   "execution_count": 4,
   "id": "94e4d07e-2fb9-434f-894a-5766fc0ed6da",
   "metadata": {},
   "outputs": [],
   "source": [
    "def net(X):\n",
    "    return softmax(torch.matmul(X.reshape(-1,w.shape[0]), w) + b)"
   ]
  },
  {
   "cell_type": "code",
   "execution_count": 5,
   "id": "a9ada92f-c65f-434c-ad83-7e1adae45c15",
   "metadata": {},
   "outputs": [],
   "source": [
    "# 交叉熵损失函数\n",
    "def cross_entropy(y_hat, y):\n",
    "    '''输入(y_hat, y)，返回w,b的损失'''\n",
    "    return - torch.log(y_hat[range(len(y_hat)), y])"
   ]
  },
  {
   "cell_type": "code",
   "execution_count": null,
   "id": "79ec76bd-a6e8-4a80-bb11-63653ab8f72c",
   "metadata": {},
   "outputs": [],
   "source": [
    "def accuracy(y_hat,y):\n",
    "    "
   ]
  }
 ],
 "metadata": {
  "kernelspec": {
   "display_name": "Python 3 (ipykernel)",
   "language": "python",
   "name": "python3"
  },
  "language_info": {
   "codemirror_mode": {
    "name": "ipython",
    "version": 3
   },
   "file_extension": ".py",
   "mimetype": "text/x-python",
   "name": "python",
   "nbconvert_exporter": "python",
   "pygments_lexer": "ipython3",
   "version": "3.11.13"
  }
 },
 "nbformat": 4,
 "nbformat_minor": 5
}
