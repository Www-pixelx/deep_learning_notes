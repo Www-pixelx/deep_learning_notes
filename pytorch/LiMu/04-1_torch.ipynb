{
 "cells": [
  {
   "cell_type": "code",
   "execution_count": 1,
   "id": "a1b74a1a-ad66-4242-8898-50cced93f5c2",
   "metadata": {},
   "outputs": [],
   "source": [
    "import torch\n",
    "import numpy as np\n",
    "import pandas as pd"
   ]
  },
  {
   "cell_type": "code",
   "execution_count": 2,
   "id": "0b61c118-c204-4e11-99f1-41cf7d2fa70f",
   "metadata": {},
   "outputs": [
    {
     "data": {
      "text/plain": [
       "tensor([ 0,  1,  2,  3,  4,  5,  6,  7,  8,  9, 10, 11])"
      ]
     },
     "execution_count": 2,
     "metadata": {},
     "output_type": "execute_result"
    }
   ],
   "source": [
    "x=torch.arange(12)\n",
    "x"
   ]
  },
  {
   "cell_type": "code",
   "execution_count": 3,
   "id": "f9509973-6f07-4db2-b74c-4146ff0bc752",
   "metadata": {},
   "outputs": [
    {
     "data": {
      "text/plain": [
       "torch.Size([12])"
      ]
     },
     "execution_count": 3,
     "metadata": {},
     "output_type": "execute_result"
    }
   ],
   "source": [
    "x.shape"
   ]
  },
  {
   "cell_type": "code",
   "execution_count": 4,
   "id": "7161d689-4c82-447a-8e95-e4633d67a591",
   "metadata": {},
   "outputs": [
    {
     "data": {
      "text/plain": [
       "12"
      ]
     },
     "execution_count": 4,
     "metadata": {},
     "output_type": "execute_result"
    }
   ],
   "source": [
    "x.numel()"
   ]
  },
  {
   "cell_type": "code",
   "execution_count": 5,
   "id": "5946cedf-77d0-4c31-b877-629924639cd7",
   "metadata": {},
   "outputs": [
    {
     "data": {
      "text/plain": [
       "tensor([[ 0,  1,  2,  3],\n",
       "        [ 4,  5,  6,  7],\n",
       "        [ 8,  9, 10, 11]])"
      ]
     },
     "execution_count": 5,
     "metadata": {},
     "output_type": "execute_result"
    }
   ],
   "source": [
    "x = x.reshape(3,4)\n",
    "x"
   ]
  },
  {
   "cell_type": "code",
   "execution_count": 6,
   "id": "551d17b4-54eb-4eb2-ba0b-a718de79f5aa",
   "metadata": {},
   "outputs": [
    {
     "data": {
      "text/plain": [
       "tensor([[ 0,  1,  2,  3],\n",
       "        [ 4,  5,  6,  7],\n",
       "        [ 8,  9, 10, 11]])"
      ]
     },
     "execution_count": 6,
     "metadata": {},
     "output_type": "execute_result"
    }
   ],
   "source": [
    "y=torch.tensor([\n",
    "[ 0,  1,  2,  3],\n",
    "[ 4,  5,  6,  7],\n",
    "[ 8,  9, 10, 11]\n",
    "])\n",
    "y"
   ]
  },
  {
   "cell_type": "code",
   "execution_count": 7,
   "id": "77e56c00-2bba-4405-8fe1-6ca410bab7bc",
   "metadata": {},
   "outputs": [
    {
     "data": {
      "text/plain": [
       "(tensor([[ 0.,  1.,  2.,  3.],\n",
       "         [ 4.,  5.,  6.,  7.],\n",
       "         [ 8.,  9., 10., 11.],\n",
       "         [13., 14., 15., 16.],\n",
       "         [17., 18., 19., 20.],\n",
       "         [21., 22., 23., 24.]]),\n",
       " tensor([[ 0.,  1.,  2.,  3., 13., 14., 15., 16.],\n",
       "         [ 4.,  5.,  6.,  7., 17., 18., 19., 20.],\n",
       "         [ 8.,  9., 10., 11., 21., 22., 23., 24.]]))"
      ]
     },
     "execution_count": 7,
     "metadata": {},
     "output_type": "execute_result"
    }
   ],
   "source": [
    "a=torch.arange(12,dtype=torch.float32).reshape(3,4)\n",
    "b=torch.arange(13,25,dtype=torch.float32).reshape(3,4)\n",
    "torch.cat((a,b),dim=0),torch.cat((a,b),dim=1)"
   ]
  },
  {
   "cell_type": "code",
   "execution_count": 8,
   "id": "44368a6a-0483-46f4-8795-9d2f0f88aa08",
   "metadata": {},
   "outputs": [
    {
     "data": {
      "text/plain": [
       "tensor([[False, False, False, False],\n",
       "        [False, False, False, False],\n",
       "        [False, False, False, False]])"
      ]
     },
     "execution_count": 8,
     "metadata": {},
     "output_type": "execute_result"
    }
   ],
   "source": [
    "a==b # 生成二元矩阵"
   ]
  },
  {
   "cell_type": "code",
   "execution_count": 9,
   "id": "dc0d8525-dd14-4fa9-8200-993fa9eeb00c",
   "metadata": {},
   "outputs": [
    {
     "data": {
      "text/plain": [
       "tensor(66.)"
      ]
     },
     "execution_count": 9,
     "metadata": {},
     "output_type": "execute_result"
    }
   ],
   "source": [
    "a.sum()"
   ]
  },
  {
   "cell_type": "code",
   "execution_count": 10,
   "id": "522b43ac-4203-4ad8-bd20-58f9eef77e48",
   "metadata": {},
   "outputs": [
    {
     "data": {
      "text/plain": [
       "tensor([[13., 15., 17., 19.],\n",
       "        [21., 23., 25., 27.],\n",
       "        [29., 31., 33., 35.]])"
      ]
     },
     "execution_count": 10,
     "metadata": {},
     "output_type": "execute_result"
    }
   ],
   "source": [
    "a+b # 对应相加"
   ]
  },
  {
   "cell_type": "code",
   "execution_count": 11,
   "id": "411e75ea-07da-4c21-a7fe-0dba8ac9e339",
   "metadata": {},
   "outputs": [
    {
     "data": {
      "text/plain": [
       "(tensor([[0],\n",
       "         [1],\n",
       "         [2]]),\n",
       " tensor([[0, 1]]))"
      ]
     },
     "execution_count": 11,
     "metadata": {},
     "output_type": "execute_result"
    }
   ],
   "source": [
    "# 广播机制，\n",
    "# 形状不同的矩阵操作\n",
    "c=torch.arange(3).reshape(3,1)\n",
    "d=torch.arange(2).reshape(1,2)\n",
    "c,d"
   ]
  },
  {
   "cell_type": "code",
   "execution_count": 12,
   "id": "e3ea9b81-b780-41cb-8544-666d8c1bab5a",
   "metadata": {},
   "outputs": [
    {
     "data": {
      "text/plain": [
       "tensor([[0, 1],\n",
       "        [1, 2],\n",
       "        [2, 3]])"
      ]
     },
     "execution_count": 12,
     "metadata": {},
     "output_type": "execute_result"
    }
   ],
   "source": [
    "c + d # 会复制变成两个（3，2）的矩阵"
   ]
  },
  {
   "cell_type": "code",
   "execution_count": 13,
   "id": "4cc2d7f8-7afb-41a3-917a-8ba75e84c953",
   "metadata": {},
   "outputs": [
    {
     "data": {
      "text/plain": [
       "(tensor(0.), tensor(22.))"
      ]
     },
     "execution_count": 13,
     "metadata": {},
     "output_type": "execute_result"
    }
   ],
   "source": [
    "# 元素访问\n",
    "a[0,0],b[2,1]"
   ]
  },
  {
   "cell_type": "code",
   "execution_count": 14,
   "id": "5d719415-284b-4e89-94db-b419f97e3a23",
   "metadata": {},
   "outputs": [
    {
     "data": {
      "text/plain": [
       "tensor([[ 1.,  1.,  2.,  3.],\n",
       "        [ 4.,  5.,  6.,  7.],\n",
       "        [ 8.,  9., 10., 11.]])"
      ]
     },
     "execution_count": 14,
     "metadata": {},
     "output_type": "execute_result"
    }
   ],
   "source": [
    "a[0,0]=1\n",
    "a"
   ]
  },
  {
   "cell_type": "code",
   "execution_count": 15,
   "id": "3482fe51-3220-4ba0-8234-e01e3e6031bf",
   "metadata": {},
   "outputs": [
    {
     "data": {
      "text/plain": [
       "tensor([[13., 14., 15., 16.],\n",
       "        [17.,  0.,  0., 20.],\n",
       "        [21.,  0.,  0., 24.]])"
      ]
     },
     "execution_count": 15,
     "metadata": {},
     "output_type": "execute_result"
    }
   ],
   "source": [
    "b[1:3,1:3] = 0\n",
    "b"
   ]
  },
  {
   "cell_type": "markdown",
   "id": "7378d376-65af-476e-b0ff-4209dea2b6f0",
   "metadata": {},
   "source": [
    "有些操作会让结果重新分配内存"
   ]
  },
  {
   "cell_type": "code",
   "execution_count": 16,
   "id": "9bc73a55-7639-44c5-9ba5-771d50adc61a",
   "metadata": {},
   "outputs": [
    {
     "data": {
      "text/plain": [
       "False"
      ]
     },
     "execution_count": 16,
     "metadata": {},
     "output_type": "execute_result"
    }
   ],
   "source": [
    "# e.g. 重新分配的\n",
    "# id 类似于指针、地址\n",
    "p = id(a)\n",
    "a = a+b\n",
    "p == id(a)"
   ]
  },
  {
   "cell_type": "code",
   "execution_count": 17,
   "id": "34678a17-777a-4125-a2dd-e9fe3a85d753",
   "metadata": {},
   "outputs": [
    {
     "name": "stdout",
     "output_type": "stream",
     "text": [
      "2198136516976\n",
      "2198136516976\n"
     ]
    }
   ],
   "source": [
    "# 原地操作\n",
    "z = torch.zeros_like(a)\n",
    "print(id(z))\n",
    "z[:] = a + b # 用z[:]相当于改变里面的值而不会重新分配内存\n",
    "print(id(z))"
   ]
  },
  {
   "cell_type": "code",
   "execution_count": 18,
   "id": "59f07aaf-705a-4747-8925-19a0609d6c7d",
   "metadata": {},
   "outputs": [
    {
     "data": {
      "text/plain": [
       "True"
      ]
     },
     "execution_count": 18,
     "metadata": {},
     "output_type": "execute_result"
    }
   ],
   "source": [
    "p = id(a)\n",
    "a += b \n",
    "p == id(a)"
   ]
  },
  {
   "cell_type": "code",
   "execution_count": null,
   "id": "20f61d72-e47f-4c06-8c54-172b3b7f6524",
   "metadata": {},
   "outputs": [],
   "source": []
  }
 ],
 "metadata": {
  "kernelspec": {
   "display_name": "Python 3 (ipykernel)",
   "language": "python",
   "name": "python3"
  },
  "language_info": {
   "codemirror_mode": {
    "name": "ipython",
    "version": 3
   },
   "file_extension": ".py",
   "mimetype": "text/x-python",
   "name": "python",
   "nbconvert_exporter": "python",
   "pygments_lexer": "ipython3",
   "version": "3.11.13"
  }
 },
 "nbformat": 4,
 "nbformat_minor": 5
}
