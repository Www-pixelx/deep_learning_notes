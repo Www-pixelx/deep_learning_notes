{
 "cells": [
  {
   "cell_type": "code",
   "execution_count": 1,
   "id": "c6529f46",
   "metadata": {},
   "outputs": [],
   "source": [
    "import torch\n",
    "import torch.nn.functional as F\n",
    "# 输入的矩阵\n",
    "input = torch.tensor([\n",
    "    [1,2,0,3,1],\n",
    "    [0,1,2,3,1],\n",
    "    [1,2,1,0,0],\n",
    "    [5,2,3,1,1],\n",
    "    [2,1,0,1,1]\n",
    "])\n",
    "\n",
    "# 卷积核\n",
    "kernel = torch.tensor([\n",
    "    [1,2,1],\n",
    "    [0,1,0],\n",
    "    [2,1,0]\n",
    "])"
   ]
  },
  {
   "cell_type": "code",
   "execution_count": 2,
   "id": "603afcd8",
   "metadata": {},
   "outputs": [],
   "source": [
    "# torch.nn.functional.conv2d(input, weight, bias=None, stride=1,padding=0,...)\n",
    "# input – input tensor of shape (minibatch,in_channels,iH,iW)\n",
    "# weight – filters of shape (out_channels, in_channels/groups, kH, kW)\n",
    "# 要求 4维\n",
    "\n",
    "input = torch.reshape(input, (1,1,5,5))\n",
    "kernel = torch.reshape(kernel,(1,1,3,3))"
   ]
  },
  {
   "cell_type": "code",
   "execution_count": 3,
   "id": "c9c5daf2",
   "metadata": {},
   "outputs": [
    {
     "data": {
      "text/plain": [
       "tensor([[[[10, 12, 12],\n",
       "          [18, 16, 16],\n",
       "          [13,  9,  3]]]])"
      ]
     },
     "execution_count": 3,
     "metadata": {},
     "output_type": "execute_result"
    }
   ],
   "source": [
    "# stride表示步幅，即卷积核在input上每次移动的格数\n",
    "output = F.conv2d(input,kernel,stride=1)\n",
    "output"
   ]
  },
  {
   "cell_type": "code",
   "execution_count": 4,
   "id": "01a3afd5",
   "metadata": {},
   "outputs": [
    {
     "data": {
      "text/plain": [
       "tensor([[[[10, 12],\n",
       "          [13,  3]]]])"
      ]
     },
     "execution_count": 4,
     "metadata": {},
     "output_type": "execute_result"
    }
   ],
   "source": [
    "output2 = F.conv2d(input,kernel,stride=2)\n",
    "output2"
   ]
  },
  {
   "cell_type": "code",
   "execution_count": 5,
   "id": "1f71fa7a",
   "metadata": {},
   "outputs": [
    {
     "data": {
      "text/plain": [
       "tensor([[[[ 1,  3,  4, 10,  8],\n",
       "          [ 5, 10, 12, 12,  6],\n",
       "          [ 7, 18, 16, 16,  8],\n",
       "          [11, 13,  9,  3,  4],\n",
       "          [14, 13,  9,  7,  4]]]])"
      ]
     },
     "execution_count": 5,
     "metadata": {},
     "output_type": "execute_result"
    }
   ],
   "source": [
    "# padding 填充，即在input外层填充的圈数，避免边缘效应\n",
    "output3 = F.conv2d(input,kernel,stride=1,padding=1)\n",
    "output3"
   ]
  },
  {
   "cell_type": "code",
   "execution_count": null,
   "id": "898f8d32",
   "metadata": {},
   "outputs": [],
   "source": []
  }
 ],
 "metadata": {
  "kernelspec": {
   "display_name": "pth_1",
   "language": "python",
   "name": "python3"
  },
  "language_info": {
   "codemirror_mode": {
    "name": "ipython",
    "version": 3
   },
   "file_extension": ".py",
   "mimetype": "text/x-python",
   "name": "python",
   "nbconvert_exporter": "python",
   "pygments_lexer": "ipython3",
   "version": "3.12.11"
  }
 },
 "nbformat": 4,
 "nbformat_minor": 5
}
