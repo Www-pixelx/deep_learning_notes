{
 "cells": [
  {
   "cell_type": "code",
   "execution_count": 1,
   "id": "10903796",
   "metadata": {},
   "outputs": [],
   "source": [
    "from torch.utils.tensorboard import SummaryWriter\n",
    "\n",
    "writer = SummaryWriter(\"logs\")\n",
    "\n",
    "for i in range(100):\n",
    "    writer.add_scalar(\"y=x\",i,i)\n",
    "\n",
    "# 在终端里输入\n",
    "# tensorboard tensorboard --logdir=路径 --port=6007"
   ]
  },
  {
   "cell_type": "code",
   "execution_count": 2,
   "id": "1d7b0d03",
   "metadata": {},
   "outputs": [
    {
     "name": "stdout",
     "output_type": "stream",
     "text": [
      "<class 'numpy.ndarray'>\n"
     ]
    }
   ],
   "source": [
    "image_path = \"C:/Users/30264/Downloads/hymenoptera_data/hymenoptera_data/val/ants/8124241_36b290d372.jpg\"\n",
    "from PIL import Image\n",
    "img = Image.open(image_path)\n",
    "import numpy as np\n",
    "img_array = np.array(img)\n",
    "print(type(img_array))\n",
    "img.close()"
   ]
  },
  {
   "cell_type": "code",
   "execution_count": null,
   "id": "77d111d2",
   "metadata": {},
   "outputs": [],
   "source": []
  }
 ],
 "metadata": {
  "kernelspec": {
   "display_name": "pth_1",
   "language": "python",
   "name": "python3"
  },
  "language_info": {
   "codemirror_mode": {
    "name": "ipython",
    "version": 3
   },
   "file_extension": ".py",
   "mimetype": "text/x-python",
   "name": "python",
   "nbconvert_exporter": "python",
   "pygments_lexer": "ipython3",
   "version": "3.12.11"
  }
 },
 "nbformat": 4,
 "nbformat_minor": 5
}
