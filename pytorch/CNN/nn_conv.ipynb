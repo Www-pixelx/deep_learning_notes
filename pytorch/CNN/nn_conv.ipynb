{
 "cells": [
  {
   "cell_type": "code",
   "execution_count": 1,
   "id": "809857b5",
   "metadata": {},
   "outputs": [],
   "source": [
    "# torch.nn.Conv2d(in_channels, out_channels, kernel_size, stride=1, padding=0, \n",
    "# dilation=1, groups=1, bias=True,padding_mode='zeros',device=None,dtype=None)"
   ]
  },
  {
   "cell_type": "code",
   "execution_count": 2,
   "id": "db56d29e",
   "metadata": {},
   "outputs": [
    {
     "name": "stderr",
     "output_type": "stream",
     "text": [
      "<>:6: SyntaxWarning: invalid escape sequence '\\d'\n",
      "<>:6: SyntaxWarning: invalid escape sequence '\\d'\n",
      "C:\\Users\\30264\\AppData\\Local\\Temp\\ipykernel_6172\\70946255.py:6: SyntaxWarning: invalid escape sequence '\\d'\n",
      "  dataset = torchvision.datasets.CIFAR10(\"..\\data\",\n"
     ]
    }
   ],
   "source": [
    "import torch\n",
    "import torchvision\n",
    "from torch.utils.data import Dataset,DataLoader\n",
    "from torch import nn\n",
    "\n",
    "dataset = torchvision.datasets.CIFAR10(\"..\\data\",\n",
    "                                       train=False,\n",
    "                                       transform=torchvision.transforms.ToTensor(),\n",
    "                                       download=True)\n",
    "dataLoader = DataLoader(dataset, batch_size=64)"
   ]
  },
  {
   "cell_type": "code",
   "execution_count": 3,
   "id": "63cd21f7",
   "metadata": {},
   "outputs": [],
   "source": [
    "class Tudui(nn.Module):\n",
    "    def __init__(self):\n",
    "        super(Tudui,self).__init__()\n",
    "        self.conv1 = nn.Conv2d(in_channels = 3,\n",
    "                               out_channels=6,\n",
    "                               kernel_size=3,\n",
    "                               stride=1,\n",
    "                               padding=0\n",
    "                               )\n",
    "        \n",
    "    def forward(self,x):\n",
    "        x = self.conv1(x)\n",
    "        return x"
   ]
  },
  {
   "cell_type": "code",
   "execution_count": 4,
   "id": "ddc46d7b",
   "metadata": {},
   "outputs": [],
   "source": [
    "tudui = Tudui()\n",
    "\n",
    "for data in dataLoader:\n",
    "    imgs, targets = data\n",
    "    output = tudui(imgs)"
   ]
  },
  {
   "cell_type": "code",
   "execution_count": null,
   "id": "530959ed",
   "metadata": {},
   "outputs": [],
   "source": []
  }
 ],
 "metadata": {
  "kernelspec": {
   "display_name": "pth_1",
   "language": "python",
   "name": "python3"
  },
  "language_info": {
   "codemirror_mode": {
    "name": "ipython",
    "version": 3
   },
   "file_extension": ".py",
   "mimetype": "text/x-python",
   "name": "python",
   "nbconvert_exporter": "python",
   "pygments_lexer": "ipython3",
   "version": "3.12.11"
  }
 },
 "nbformat": 4,
 "nbformat_minor": 5
}
