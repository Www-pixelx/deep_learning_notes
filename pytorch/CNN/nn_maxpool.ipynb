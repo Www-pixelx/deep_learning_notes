{
 "cells": [
  {
   "cell_type": "code",
   "execution_count": 1,
   "id": "80f5685a",
   "metadata": {},
   "outputs": [],
   "source": [
    "import torch\n",
    "import torchvision\n",
    "from torch.utils.data import Dataset,DataLoader\n",
    "from torch import nn\n",
    "\n",
    "# torch.nn.MaxPool2d(kernel_size, \n",
    "#                    stride=None, \n",
    "#                    padding=0, dilation=1, return_indices=False, ceil_mode=False)\n",
    "\n",
    "input = torch.tensor(\n",
    "   [[1,2,0,3,1],\n",
    "    [0,1,2,3,1],\n",
    "    [1,2,1,0,0],\n",
    "    [5,2,3,1,1],\n",
    "    [2,1,0,1,1]],\n",
    "    dtype= torch.float32\n",
    "    )"
   ]
  },
  {
   "cell_type": "code",
   "execution_count": 2,
   "id": "9e6aeb7a",
   "metadata": {},
   "outputs": [],
   "source": [
    "# input/output shape: (N, C, H, W) or (C, H, W)\n",
    "# 3维即可\n",
    "\n",
    "input = torch.reshape(input, (1,5,5))"
   ]
  },
  {
   "cell_type": "code",
   "execution_count": 3,
   "id": "f25f5a91",
   "metadata": {},
   "outputs": [
    {
     "name": "stdout",
     "output_type": "stream",
     "text": [
      "tensor([[[2., 3.],\n",
      "         [5., 1.]]])\n"
     ]
    }
   ],
   "source": [
    "#最大池化\n",
    "class Tudui_pool(nn.Module):\n",
    "    def __init__(self):\n",
    "        super().__init__()\n",
    "        self.maxpool = nn.MaxPool2d(kernel_size=3, ceil_mode=True)\n",
    "\n",
    "    def forward(self,x):\n",
    "        x = self.maxpool(x)\n",
    "        return x\n",
    "\n",
    "tudui = Tudui_pool()\n",
    "output = tudui(input)\n",
    "print(output)"
   ]
  },
  {
   "cell_type": "code",
   "execution_count": null,
   "id": "fd372547",
   "metadata": {},
   "outputs": [],
   "source": []
  }
 ],
 "metadata": {
  "kernelspec": {
   "display_name": "pth_1",
   "language": "python",
   "name": "python3"
  },
  "language_info": {
   "codemirror_mode": {
    "name": "ipython",
    "version": 3
   },
   "file_extension": ".py",
   "mimetype": "text/x-python",
   "name": "python",
   "nbconvert_exporter": "python",
   "pygments_lexer": "ipython3",
   "version": "3.12.11"
  }
 },
 "nbformat": 4,
 "nbformat_minor": 5
}
