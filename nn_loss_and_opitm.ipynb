{
 "cells": [
  {
   "cell_type": "code",
   "execution_count": 1,
   "id": "75da0e58",
   "metadata": {},
   "outputs": [],
   "source": [
    "import torch\n",
    "import torchvision\n",
    "from torch.utils.data import Dataset,DataLoader\n",
    "from torch import nn"
   ]
  },
  {
   "cell_type": "code",
   "execution_count": 2,
   "id": "e9ba4a2f",
   "metadata": {},
   "outputs": [
    {
     "data": {
      "text/plain": [
       "tensor(0.1000)"
      ]
     },
     "execution_count": 2,
     "metadata": {},
     "output_type": "execute_result"
    }
   ],
   "source": [
    "# L1 Loss\n",
    "input = torch.tensor([1.,2,3,4,5])\n",
    "target = torch.tensor([1.,2,3,4,5.5])\n",
    "loss = nn.L1Loss()\n",
    "loss(input,target)"
   ]
  },
  {
   "cell_type": "code",
   "execution_count": null,
   "id": "5655ff80",
   "metadata": {},
   "outputs": [
    {
     "name": "stderr",
     "output_type": "stream",
     "text": [
      "<>:21: SyntaxWarning: invalid escape sequence '\\d'\n",
      "<>:21: SyntaxWarning: invalid escape sequence '\\d'\n",
      "C:\\Users\\30264\\AppData\\Local\\Temp\\ipykernel_20332\\1208876945.py:21: SyntaxWarning: invalid escape sequence '\\d'\n",
      "  dataset = torchvision.datasets.CIFAR10(\"..\\data\",\n"
     ]
    }
   ],
   "source": [
    "# 神经网络优化\n",
    "class Net(nn.Module): \n",
    "    def __init__(self):\n",
    "        super().__init__()\n",
    "        self.seq=nn.Sequential(\n",
    "            nn.Conv2d(3,32,5,padding=2),\n",
    "            nn.MaxPool2d(2),\n",
    "            nn.Conv2d(32,32,5,padding=1),\n",
    "            nn.MaxPool2d(2),\n",
    "            nn.Conv2d(32,64,5,padding=2),\n",
    "            nn.MaxPool2d(2),\n",
    "            nn.Flatten(),\n",
    "            nn.Linear(576,64),\n",
    "            nn.Linear(64,10)\n",
    "        )\n",
    "\n",
    "    def forward(self,x):\n",
    "        x = self.seq(x)\n",
    "        return x\n",
    "    \n",
    "dataset = torchvision.datasets.CIFAR10(\"..\\data\",\n",
    "                                       train=False,\n",
    "                                       transform=torchvision.transforms.ToTensor(),\n",
    "                                       download=True)\n",
    "dataloader = DataLoader(dataset, batch_size=1)"
   ]
  },
  {
   "cell_type": "code",
   "execution_count": 10,
   "id": "366e071a",
   "metadata": {},
   "outputs": [
    {
     "name": "stdout",
     "output_type": "stream",
     "text": [
      "epoch1 loss: 1.8173514604568481\n",
      "epoch2 loss: 1.1259980201721191\n",
      "epoch3 loss: 0.7905516624450684\n",
      "epoch4 loss: 0.817069411277771\n",
      "epoch5 loss: 0.8531790971755981\n",
      "epoch6 loss: 0.7580227851867676\n",
      "epoch7 loss: 0.6059482097625732\n",
      "epoch8 loss: 0.4651493728160858\n",
      "epoch9 loss: 0.32154837250709534\n",
      "epoch10 loss: 0.20725761353969574\n"
     ]
    }
   ],
   "source": [
    "loss = nn.CrossEntropyLoss() # 交叉熵损失函数\n",
    "net = Net()\n",
    "\n",
    "epoches = 10\n",
    "# 优化器SGD 随机梯度下降\n",
    "optim = torch.optim.SGD(net.parameters(), lr=0.001)\n",
    "for epoch in range(epoches): # 优化学习10轮\n",
    "    for data in dataloader:\n",
    "        imgs, targets = data\n",
    "        output = net(imgs)\n",
    "        result_loss = loss(output,targets)\n",
    "        optim.zero_grad()\n",
    "        result_loss.backward() # 反向传播计算梯度\n",
    "        optim.step() # 优化梯度\n",
    "    print(f\"epoch{epoch+1} loss: {result_loss}\")\n",
    "\n",
    "    "
   ]
  },
  {
   "cell_type": "code",
   "execution_count": null,
   "id": "fddefa83",
   "metadata": {},
   "outputs": [],
   "source": []
  }
 ],
 "metadata": {
  "kernelspec": {
   "display_name": "pth_1",
   "language": "python",
   "name": "python3"
  },
  "language_info": {
   "codemirror_mode": {
    "name": "ipython",
    "version": 3
   },
   "file_extension": ".py",
   "mimetype": "text/x-python",
   "name": "python",
   "nbconvert_exporter": "python",
   "pygments_lexer": "ipython3",
   "version": "3.12.11"
  }
 },
 "nbformat": 4,
 "nbformat_minor": 5
}
